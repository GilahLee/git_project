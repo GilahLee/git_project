{
 "cells": [
  {
   "cell_type": "code",
   "execution_count": 1,
   "id": "3c7e21ad-8fb0-4862-a000-c96a94883621",
   "metadata": {},
   "outputs": [
    {
     "name": "stdout",
     "output_type": "stream",
     "text": [
      "Member1이 작업함\n"
     ]
    }
   ],
   "source": [
    "print('Member1이 작업함')"
   ]
  },
  {
   "cell_type": "code",
   "execution_count": 2,
   "id": "6317fd86-b10d-4299-9875-7894b9b94389",
   "metadata": {},
   "outputs": [
    {
     "name": "stdout",
     "output_type": "stream",
     "text": [
      "Member1이 또 작업함\n"
     ]
    }
   ],
   "source": [
    "print('Member1이 또 작업함')"
   ]
  },
  {
   "cell_type": "code",
   "execution_count": null,
   "id": "1b7551db-4e3a-4c95-886d-e3992d5ac953",
   "metadata": {},
   "outputs": [],
   "source": []
  }
 ],
 "metadata": {
  "kernelspec": {
   "display_name": "Python 3 (ipykernel)",
   "language": "python",
   "name": "python3"
  },
  "language_info": {
   "codemirror_mode": {
    "name": "ipython",
    "version": 3
   },
   "file_extension": ".py",
   "mimetype": "text/x-python",
   "name": "python",
   "nbconvert_exporter": "python",
   "pygments_lexer": "ipython3",
   "version": "3.11.5"
  }
 },
 "nbformat": 4,
 "nbformat_minor": 5
}
