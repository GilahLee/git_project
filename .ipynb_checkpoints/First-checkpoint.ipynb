{
 "cells": [
  {
   "cell_type": "code",
   "execution_count": 1,
   "id": "3c7e21ad-8fb0-4862-a000-c96a94883621",
   "metadata": {},
   "outputs": [
    {
     "name": "stdout",
     "output_type": "stream",
     "text": [
      "Member1이 작업함\n"
     ]
    }
   ],
   "source": [
    "print('Member1이 작업함')"
   ]
  },
  {
   "cell_type": "code",
   "execution_count": 2,
   "id": "6317fd86-b10d-4299-9875-7894b9b94389",
   "metadata": {},
   "outputs": [
    {
     "name": "stdout",
     "output_type": "stream",
     "text": [
      "Member1이 또 작업함\n"
     ]
    }
   ],
   "source": [
    "print('Member1이 또 작업함')"
   ]
  },
  {
   "cell_type": "code",
   "execution_count": 2,
   "id": "40b3df6d-b8f6-4912-81c0-8b6fdc7ec5fc",
   "metadata": {},
   "outputs": [
    {
     "name": "stdout",
     "output_type": "stream",
     "text": [
      "전우치가 작업함\n"
     ]
    }
   ],
   "source": [
    "print('전우치가 작업함')"
   ]
  }
 ],
 "metadata": {
  "kernelspec": {
   "display_name": "Python 3 (ipykernel)",
   "language": "python",
   "name": "python3"
  },
  "language_info": {
   "codemirror_mode": {
    "name": "ipython",
    "version": 3
   },
   "file_extension": ".py",
   "mimetype": "text/x-python",
   "name": "python",
   "nbconvert_exporter": "python",
   "pygments_lexer": "ipython3",
   "version": "3.11.5"
  }
 },
 "nbformat": 4,
 "nbformat_minor": 5
}
